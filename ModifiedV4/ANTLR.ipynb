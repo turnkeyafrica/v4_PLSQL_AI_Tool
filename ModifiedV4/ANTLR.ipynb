{
 "cells": [
  {
   "cell_type": "code",
   "execution_count": 1,
   "id": "5a98c163-ae8f-4d60-a993-8199321646e0",
   "metadata": {},
   "outputs": [
    {
     "name": "stdin",
     "output_type": "stream",
     "text": [
      " ········\n"
     ]
    }
   ],
   "source": [
    "import getpass\n",
    "import os\n",
    "\n",
    "# Prompt for API key\n",
    "#LLAMA_CLOUD_API_KEY = getpass(\"Enter your LLAMA CLOUD API key: \")\n",
    "#ANTHROPIC_API_KEY = getpass(\"Enter your Antropic API key: \")\n",
    "os.environ[\"GOOGLE_API_KEY\"] = getpass.getpass()\n"
   ]
  },
  {
   "cell_type": "code",
   "execution_count": 2,
   "id": "bdc8b12f-9e38-4f1b-a012-9e5227d1562c",
   "metadata": {},
   "outputs": [],
   "source": [
    "import logging\n",
    "# Configure logging\n",
    "logging.basicConfig(level=logging.INFO, format='%(asctime)s - %(levelname)s - %(message)s')\n",
    "\n",
    "# Retrieve OpenAI API key from environment variable\n",
    "GOOGLE_API_KEY = os.getenv('GOOGLE_API_KEY')\n",
    "if not GOOGLE_API_KEY:\n",
    "    logging.error(\"Google Gemini API key not found. Please set the 'GOOGLE_API_KEY' environment variable.\")\n",
    "else:\n",
    "    GOOGLE_API_KEY = GOOGLE_API_KEY"
   ]
  },
  {
   "cell_type": "code",
   "execution_count": 3,
   "id": "116db086-7eeb-45ec-bb15-8365a15d50aa",
   "metadata": {},
   "outputs": [
    {
     "name": "stdout",
     "output_type": "stream",
     "text": [
      "Gemini model configured successfully!\n"
     ]
    }
   ],
   "source": [
    "\n",
    "import google.generativeai as genai\n",
    "\n",
    "# Configure the model using the API key from the previous cell\n",
    "genai.configure(api_key=GOOGLE_API_KEY)\n",
    "\n",
    "# Optional: Set generation configuration (modify as needed)\n",
    "generation_config = {\n",
    "    \"temperature\": 0.2,  # Controls randomness (1=more random, 0=less random)\n",
    "    \"top_p\": 0.95,    # Probability distribution weighting\n",
    "    \"max_output_tokens\": 8192, \n",
    "}\n",
    "\n",
    "# Optionally create a GenerativeModel instance with specific settings\n",
    "model = genai.GenerativeModel(\n",
    "    # model_name=\"gemini-2.0-flash-exp\",\n",
    "    model_name=\"gemini-1.5-flash\",\n",
    "    generation_config=generation_config,\n",
    "    system_instruction=\" \",\n",
    ")\n",
    "\n",
    "# Print confirmation message\n",
    "print(\"Gemini model configured successfully!\")"
   ]
  },
  {
   "cell_type": "code",
   "execution_count": 4,
   "id": "239397f5-a839-4deb-97d0-0ac5a8162471",
   "metadata": {},
   "outputs": [
    {
     "name": "stderr",
     "output_type": "stream",
     "text": [
      "2025-01-06 10:19:47,707 - INFO - Merged package written to tests/merged_procedure.sql\n"
     ]
    },
    {
     "name": "stdout",
     "output_type": "stream",
     "text": [
      "Merged procedure saved to: tests/merged_procedure.sql\n"
     ]
    }
   ],
   "source": [
    "import os\n",
    "import logging\n",
    "import google.generativeai as genai\n",
    "\n",
    "def merge_database_package_procedures_with_history(\n",
    "    differences_file_path: str,\n",
    "    heritage_package_procedure: str,\n",
    "    geminia_package_procedure: str,\n",
    "    output_package_path: str,\n",
    ") -> str:\n",
    "    \"\"\"\n",
    "    Merges procedures using Gemini with history and completion checks using 'FINAL_MERGING_DONE'.\n",
    "\n",
    "    Args:\n",
    "        differences_file_path: Path to the file containing differences between the procedures.\n",
    "        heritage_package_procedure: Path to the heritage procedure file.\n",
    "        geminia_package_procedure: Path to the geminia procedure file.\n",
    "        output_package_path: Path to save the merged procedure.\n",
    "\n",
    "    Returns:\n",
    "        Path of the saved merged procedure.\n",
    "    \"\"\"\n",
    "\n",
    "    genai.configure(api_key=os.environ[\"GOOGLE_API_KEY\"])\n",
    "\n",
    "    generation_config = {\n",
    "        \"temperature\": 1,\n",
    "        \"top_p\": 0.95,\n",
    "        \"max_output_tokens\": 8192,\n",
    "        \"response_mime_type\": \"text/plain\",\n",
    "    }\n",
    "\n",
    "    model = genai.GenerativeModel(\n",
    "        model_name=\"gemini-2.0-flash-exp\",\n",
    "        generation_config=generation_config,\n",
    "        system_instruction=\"You are a senior PL/SQL developer proficient in merging procedures and functions. For the large procedures exceeding 500 lines, you will merge them by generating PL/SQL code in chunks iteratively until the last chunk. Indicate completion with 'FINAL_MERGING_DONE' at the bottom of the last chunk.\",\n",
    "    )\n",
    "\n",
    "    try:\n",
    "        with open(differences_file_path, \"r\") as diff_file:\n",
    "            diff_content = diff_file.read()\n",
    "\n",
    "        with open(heritage_package_procedure, \"r\") as heritage_file:\n",
    "            heritage_content = heritage_file.read()\n",
    "\n",
    "        with open(geminia_package_procedure, \"r\") as geminia_file:\n",
    "            geminia_content = geminia_file.read()\n",
    "\n",
    "        base_prompt = f\"\"\"\n",
    "You are an expert PL/SQL developer. Your task is to merge two plsql procedures into a single harmonized procedure.\n",
    "The differences between the two procedures are stored in here (you will only use this for context, dont paste it directly):\n",
    "{diff_content}\n",
    "The first procedure is here: Heritage Procedure:\n",
    "{heritage_content}\n",
    "The second procedure that will be used for comparison and merging is here: Geminia Procedure:\n",
    "{geminia_content}\n",
    "When the final output is done, write a new line below the final code saying \"FINAL_MERGING_DONE\" at the end of your response.\n",
    "        \"\"\"\n",
    "\n",
    "        merged_chunks = []\n",
    "        history = [{\"role\": \"user\", \"parts\": [base_prompt]}]\n",
    "        chat_session = model.start_chat(history=history)\n",
    "\n",
    "        while True:\n",
    "            response = chat_session.send_message(\"continue\")  # Always use \"continue\"\n",
    "            chunk = response.text.strip()\n",
    "            merged_chunks.append(chunk)\n",
    "            history.append({\"role\": \"model\", \"parts\": [chunk]})\n",
    "\n",
    "            if \"FINAL_MERGING_DONE\" in chunk.upper():\n",
    "                merged_chunks[-1] = merged_chunks[-1].replace(\"FINAL_MERGING_DONE\", \"\").strip()\n",
    "                break\n",
    "            else:\n",
    "                history.append({\"role\": \"user\", \"parts\": [\"Continue.\"]})\n",
    "                chat_session = model.start_chat(history=history)\n",
    "\n",
    "        merged_content = \"\\n\\n\".join(merged_chunks)\n",
    "        output_dir = os.path.dirname(output_package_path) or \".\"\n",
    "        os.makedirs(output_dir, exist_ok=True)\n",
    "\n",
    "        with open(output_package_path, \"w\") as output_file:\n",
    "            output_file.write(merged_content)\n",
    "\n",
    "        logging.info(f\"Merged package written to {output_package_path}\")\n",
    "        return output_package_path\n",
    "\n",
    "    except Exception as e:\n",
    "        logging.error(f\"LLM Error: {e}\")\n",
    "        raise RuntimeError(f\"Failed to merge using LLM: {e}\")\n",
    "\n",
    "# Example usage\n",
    "differences_file_path = \"diffs/GIN_STP_PKG/procedures_gin_policies_prc_diff.txt\"\n",
    "heritage_package_procedure = \"packages/GIN_STP_PKG_HERITAGE_BODY/procedures/gin_policies_prc.sql\"\n",
    "geminia_package_procedure = \"packages/GIN_STP_PKG_NEW_GEMINIA_BODY/procedures/gin_policies_prc.sql\"\n",
    "output_package_path = \"tests/merged_procedure.sql\"\n",
    "\n",
    "# Call the function to merge procedures\n",
    "merged_package_path = merge_database_package_procedures_with_history(\n",
    "    differences_file_path,\n",
    "    heritage_package_procedure,\n",
    "    geminia_package_procedure,\n",
    "    output_package_path\n",
    ")\n",
    "print(f\"Merged procedure saved to: {merged_package_path}\")\n"
   ]
  },
  {
   "cell_type": "code",
   "execution_count": null,
   "id": "2a7a0117-8efe-49cc-8d2c-f481b0fea5f8",
   "metadata": {},
   "outputs": [],
   "source": []
  }
 ],
 "metadata": {
  "kernelspec": {
   "display_name": "Python 3 (ipykernel)",
   "language": "python",
   "name": "python3"
  },
  "language_info": {
   "codemirror_mode": {
    "name": "ipython",
    "version": 3
   },
   "file_extension": ".py",
   "mimetype": "text/x-python",
   "name": "python",
   "nbconvert_exporter": "python",
   "pygments_lexer": "ipython3",
   "version": "3.13.0"
  }
 },
 "nbformat": 4,
 "nbformat_minor": 5
}

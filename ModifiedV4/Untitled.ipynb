{
 "cells": [
  {
   "cell_type": "code",
   "execution_count": 10,
   "id": "047db5f4-813d-41ba-b6bf-80ee98130d0e",
   "metadata": {},
   "outputs": [
    {
     "name": "stdin",
     "output_type": "stream",
     "text": [
      " ········\n"
     ]
    }
   ],
   "source": [
    "import getpass\n",
    "import os\n",
    "\n",
    "# Prompt for API key\n",
    "#LLAMA_CLOUD_API_KEY = getpass(\"Enter your LLAMA CLOUD API key: \")\n",
    "#ANTHROPIC_API_KEY = getpass(\"Enter your Antropic API key: \")\n",
    "os.environ[\"OPENAI_API_KEY\"] = getpass.getpass()\n"
   ]
  },
  {
   "cell_type": "code",
   "execution_count": 11,
   "id": "233c725e-4631-4d76-a7e3-1aca406f0ba1",
   "metadata": {},
   "outputs": [],
   "source": [
    "import logging\n",
    "# Configure logging\n",
    "logging.basicConfig(level=logging.INFO, format='%(asctime)s - %(levelname)s - %(message)s')\n",
    "\n",
    "# Retrieve OpenAI API key from environment variable\n",
    "OPENAI_API_KEY = os.getenv('OPENAI_API_KEY')\n",
    "if not OPENAI_API_KEY:\n",
    "    logging.error(\"openai API key not found. Please set the 'OPENAI_API_KEY' environment variable.\")\n",
    "else:\n",
    "    OPENAI_API_KEY = OPENAI_API_KEY"
   ]
  },
  {
   "cell_type": "code",
   "execution_count": 16,
   "id": "32d52fff-fded-4f7a-acac-52fa8842353f",
   "metadata": {},
   "outputs": [
    {
     "name": "stderr",
     "output_type": "stream",
     "text": [
      "2024-12-23 10:17:21,650 - INFO - HTTP Request: POST https://api.openai.com/v1/chat/completions \"HTTP/1.1 200 OK\"\n",
      "2024-12-23 10:17:21,905 - INFO - Generated chunk: 1 lines.\n",
      "2024-12-23 10:17:21,912 - INFO - Merged package written to tests/merged_procedure.sql\n"
     ]
    },
    {
     "name": "stdout",
     "output_type": "stream",
     "text": [
      "Merged procedure saved to: tests/merged_procedure.sql\n"
     ]
    }
   ],
   "source": [
    "import os\n",
    "from openai import OpenAI\n",
    "import logging\n",
    "\n",
    "def merge_database_package_procedures_with_history(\n",
    "        differences_file_path, heritage_package_procedure, geminia_package_procedure, output_package_path):\n",
    "    \"\"\"Merges procedures using GPT with history and completion checks using 'FINALLY DONE'.\"\"\"\n",
    "\n",
    "    client = OpenAI(api_key=os.environ[\"OPENAI_API_KEY\"])\n",
    "    \n",
    "    def chat_with_gpt(prompt, history):\n",
    "        \"\"\"Handles communication with GPT model using history.\"\"\"\n",
    "        messages = [{\"role\": \"system\", \"content\": \"You are an expert PL/SQL developer.\"}]\n",
    "        messages.extend(history)\n",
    "        messages.append({\"role\": \"user\", \"content\": prompt})\n",
    "        \n",
    "        try:\n",
    "            response = client.chat.completions.create(\n",
    "                model=\"gpt-4o-mini\",\n",
    "                messages=messages\n",
    "            )\n",
    "            return response.choices[0].message.content.strip()\n",
    "        except Exception as e:\n",
    "            logging.error(f\"OpenAI API Error: {e}\")\n",
    "            raise RuntimeError(f\"Failed to communicate with GPT: {e}\")\n",
    "\n",
    "    # Read file contents\n",
    "    with open(differences_file_path, 'r') as diff_file:\n",
    "        diff_content = diff_file.read()\n",
    "    with open(heritage_package_procedure, 'r') as heritage_file:\n",
    "        heritage_content = heritage_file.read()\n",
    "    with open(geminia_package_procedure, 'r') as geminia_file:\n",
    "        geminia_content = geminia_file.read()\n",
    "\n",
    "    base_prompt = f\"\"\"\n",
    "You are an expert PL/SQL developer. Your task is to merge two PL/SQL procedures into a single harmonized procedure.\n",
    "The differences between the two procedures are described below (use this for context, do not paste it directly):\n",
    "{diff_content}\n",
    "The first procedure (Heritage Procedure):\n",
    "{heritage_content}\n",
    "The second procedure (Geminia Procedure):\n",
    "{geminia_content}\n",
    "If the merged procedure exceeds 400 lines, generate it in chunks of up to 400 lines. Indicate the completion of the merged procedure with the phrase 'FINALLY DONE' at the end. Otherwise, continue generating chunks.\n",
    "\"\"\"\n",
    "\n",
    "    merged_chunks = []\n",
    "    history = []  # Keep track of conversation history\n",
    "    prompt = base_prompt\n",
    "    generation_complete = False\n",
    "\n",
    "    try:\n",
    "        while not generation_complete:\n",
    "            chunk = chat_with_gpt(prompt, history)\n",
    "            history.append({\"role\": \"assistant\", \"content\": chunk})\n",
    "            if \"FINALLY DONE\" in chunk.upper():\n",
    "                generation_complete = True\n",
    "                chunk = chunk.replace(\"FINALLY DONE\", \"\").strip()\n",
    "            merged_chunks.append(chunk)\n",
    "            logging.info(f\"Generated chunk: {len(merged_chunks)} lines.\")\n",
    "            prompt = \"Continue generating the merged procedure.\"\n",
    "    except Exception as e:\n",
    "        logging.error(f\"LLM Error: {e}\")\n",
    "        raise RuntimeError(f\"Failed to merge using GPT: {e}\")\n",
    "\n",
    "    # Combine all chunks\n",
    "    merged_content = \"\\n\\n\".join(merged_chunks)\n",
    "    output_dir = os.path.dirname(output_package_path) or \".\"\n",
    "    os.makedirs(output_dir, exist_ok=True)\n",
    "\n",
    "    with open(output_package_path, 'w') as output_file:\n",
    "        output_file.write(merged_content)\n",
    "\n",
    "    logging.info(f\"Merged package written to {output_package_path}\")\n",
    "    return output_package_path\n",
    "\n",
    "# Actual file paths\n",
    "differences_file_path = \"diffs/GIN_STP_PKG/procedures_gin_policies_prc_diff.txt\"\n",
    "heritage_package_procedure = \"packages/GIN_STP_PKG_HERITAGE_BODY/procedures/gin_policies_prc.sql\"\n",
    "geminia_package_procedure = \"packages/GIN_STP_PKG_NEW_GEMINIA_BODY/procedures/gin_policies_prc.sql\"\n",
    "output_package_path = \"tests/merged_procedure.sql\"\n",
    "\n",
    "# Call the function to merge procedures\n",
    "merged_package_path = merge_database_package_procedures_with_history(\n",
    "    differences_file_path, \n",
    "    heritage_package_procedure, \n",
    "    geminia_package_procedure, \n",
    "    output_package_path\n",
    ")\n",
    "\n",
    "print(f\"Merged procedure saved to: {merged_package_path}\")\n"
   ]
  },
  {
   "cell_type": "code",
   "execution_count": null,
   "id": "97c73103-1236-467f-91fb-3e5ca173bda5",
   "metadata": {},
   "outputs": [],
   "source": []
  }
 ],
 "metadata": {
  "kernelspec": {
   "display_name": "Python 3 (ipykernel)",
   "language": "python",
   "name": "python3"
  },
  "language_info": {
   "codemirror_mode": {
    "name": "ipython",
    "version": 3
   },
   "file_extension": ".py",
   "mimetype": "text/x-python",
   "name": "python",
   "nbconvert_exporter": "python",
   "pygments_lexer": "ipython3",
   "version": "3.13.0"
  }
 },
 "nbformat": 4,
 "nbformat_minor": 5
}
